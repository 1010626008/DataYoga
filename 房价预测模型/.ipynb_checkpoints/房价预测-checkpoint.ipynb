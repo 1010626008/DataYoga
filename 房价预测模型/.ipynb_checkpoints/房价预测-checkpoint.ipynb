{
 "cells": [
  {
   "cell_type": "code",
   "execution_count": 8,
   "metadata": {},
   "outputs": [],
   "source": [
    "import numpy as np\n",
    "import pandas as pd\n",
    "import random\n",
    "import matplotlib.pyplot as plt\n",
    "import seaborn as sns\n",
    "\n",
    "from sklearn.model_selection import train_test_split\n",
    "from sklearn.preprocessing import PolynomialFeatures\n",
    "from sklearn.linear_model import Lasso\n",
    "from sklearn.ensemble import RandomForestRegressor\n",
    "from sklearn.tree import DecisionTreeRegressor\n",
    "from sklearn.neighbors import KNeighborsRegressor\n",
    "\n",
    "import warnings\n",
    "warnings.filterwarnings('ignore')"
   ]
  },
  {
   "cell_type": "code",
   "execution_count": 9,
   "metadata": {},
   "outputs": [
    {
     "data": {
      "text/html": [
       "<div>\n",
       "<style scoped>\n",
       "    .dataframe tbody tr th:only-of-type {\n",
       "        vertical-align: middle;\n",
       "    }\n",
       "\n",
       "    .dataframe tbody tr th {\n",
       "        vertical-align: top;\n",
       "    }\n",
       "\n",
       "    .dataframe thead th {\n",
       "        text-align: right;\n",
       "    }\n",
       "</style>\n",
       "<table border=\"1\" class=\"dataframe\">\n",
       "  <thead>\n",
       "    <tr style=\"text-align: right;\">\n",
       "      <th></th>\n",
       "      <th>户型</th>\n",
       "      <th>建筑面积</th>\n",
       "      <th>朝向</th>\n",
       "      <th>楼层</th>\n",
       "      <th>装修</th>\n",
       "      <th>建筑年代</th>\n",
       "      <th>电梯</th>\n",
       "      <th>产权性质</th>\n",
       "      <th>住宅类别</th>\n",
       "      <th>建筑结构</th>\n",
       "      <th>建筑类别</th>\n",
       "      <th>区域</th>\n",
       "      <th>学校</th>\n",
       "      <th>总价</th>\n",
       "      <th>单价</th>\n",
       "    </tr>\n",
       "  </thead>\n",
       "  <tbody>\n",
       "    <tr>\n",
       "      <th>0</th>\n",
       "      <td>2室2厅1卫</td>\n",
       "      <td>104.66平米</td>\n",
       "      <td>南</td>\n",
       "      <td>高层</td>\n",
       "      <td>毛坯</td>\n",
       "      <td>2020年</td>\n",
       "      <td>有</td>\n",
       "      <td>商品房</td>\n",
       "      <td>普通住宅</td>\n",
       "      <td>平层</td>\n",
       "      <td>板楼</td>\n",
       "      <td>城关</td>\n",
       "      <td>0</td>\n",
       "      <td>191.0</td>\n",
       "      <td>18250元/平米</td>\n",
       "    </tr>\n",
       "    <tr>\n",
       "      <th>1</th>\n",
       "      <td>1室1厅1卫</td>\n",
       "      <td>48.86平米</td>\n",
       "      <td>南北</td>\n",
       "      <td>中层</td>\n",
       "      <td>简装修</td>\n",
       "      <td>2020年</td>\n",
       "      <td>无</td>\n",
       "      <td>商品房</td>\n",
       "      <td>普通住宅</td>\n",
       "      <td>平层</td>\n",
       "      <td>板楼</td>\n",
       "      <td>城关</td>\n",
       "      <td>1</td>\n",
       "      <td>63.0</td>\n",
       "      <td>12894元/平米</td>\n",
       "    </tr>\n",
       "    <tr>\n",
       "      <th>2</th>\n",
       "      <td>1室3厅1卫</td>\n",
       "      <td>80平米</td>\n",
       "      <td>南北</td>\n",
       "      <td>低层</td>\n",
       "      <td>简装修</td>\n",
       "      <td>NaN</td>\n",
       "      <td>无</td>\n",
       "      <td>房改房</td>\n",
       "      <td>NaN</td>\n",
       "      <td>平层</td>\n",
       "      <td>NaN</td>\n",
       "      <td>城关</td>\n",
       "      <td>0</td>\n",
       "      <td>118.0</td>\n",
       "      <td>14750元/平米</td>\n",
       "    </tr>\n",
       "    <tr>\n",
       "      <th>3</th>\n",
       "      <td>3室2厅2卫</td>\n",
       "      <td>118.00平米</td>\n",
       "      <td>南北</td>\n",
       "      <td>中楼层</td>\n",
       "      <td>暂无</td>\n",
       "      <td>NaN</td>\n",
       "      <td>NaN</td>\n",
       "      <td>NaN</td>\n",
       "      <td>NaN</td>\n",
       "      <td>NaN</td>\n",
       "      <td>NaN</td>\n",
       "      <td>安宁</td>\n",
       "      <td>0</td>\n",
       "      <td>142.0</td>\n",
       "      <td>12034元/平米</td>\n",
       "    </tr>\n",
       "    <tr>\n",
       "      <th>4</th>\n",
       "      <td>3室2厅1卫</td>\n",
       "      <td>94.66平米</td>\n",
       "      <td>南</td>\n",
       "      <td>中层</td>\n",
       "      <td>毛坯</td>\n",
       "      <td>2015年</td>\n",
       "      <td>有</td>\n",
       "      <td>个人产权</td>\n",
       "      <td>普通住宅</td>\n",
       "      <td>平层</td>\n",
       "      <td>板楼</td>\n",
       "      <td>安宁</td>\n",
       "      <td>0</td>\n",
       "      <td>110.0</td>\n",
       "      <td>11621元/平米</td>\n",
       "    </tr>\n",
       "  </tbody>\n",
       "</table>\n",
       "</div>"
      ],
      "text/plain": [
       "       户型      建筑面积  朝向   楼层   装修   建筑年代   电梯  产权性质  住宅类别 建筑结构 建筑类别  区域  学校     总价           单价\n",
       "0  2室2厅1卫  104.66平米   南   高层   毛坯  2020年   有    商品房  普通住宅   平层   板楼  城关   0  191.0   18250元/平米 \n",
       "1  1室1厅1卫   48.86平米  南北   中层  简装修  2020年   无    商品房  普通住宅   平层   板楼  城关   1   63.0   12894元/平米 \n",
       "2  1室3厅1卫      80平米  南北   低层  简装修    NaN   无    房改房   NaN   平层  NaN  城关   0  118.0   14750元/平米 \n",
       "3  3室2厅2卫  118.00平米  南北  中楼层   暂无    NaN  NaN   NaN   NaN  NaN  NaN  安宁   0  142.0    12034元/平米\n",
       "4  3室2厅1卫   94.66平米   南   中层   毛坯  2015年   有   个人产权  普通住宅   平层   板楼  安宁   0  110.0   11621元/平米 "
      ]
     },
     "execution_count": 9,
     "metadata": {},
     "output_type": "execute_result"
    }
   ],
   "source": [
    "df = pd.read_csv('house.csv', encoding='gbk')\n",
    "df.head()"
   ]
  },
  {
   "cell_type": "code",
   "execution_count": 10,
   "metadata": {},
   "outputs": [
    {
     "data": {
      "text/plain": [
       "2329"
      ]
     },
     "execution_count": 10,
     "metadata": {},
     "output_type": "execute_result"
    }
   ],
   "source": [
    "# 重复项\n",
    "df.duplicated().sum()"
   ]
  },
  {
   "cell_type": "code",
   "execution_count": 11,
   "metadata": {},
   "outputs": [
    {
     "data": {
      "text/plain": [
       "户型         0\n",
       "建筑面积       0\n",
       "朝向         0\n",
       "楼层         0\n",
       "装修         0\n",
       "建筑年代    2081\n",
       "电梯      1859\n",
       "产权性质    1859\n",
       "住宅类别    2825\n",
       "建筑结构    3862\n",
       "建筑类别    2496\n",
       "区域         0\n",
       "学校         0\n",
       "总价         0\n",
       "单价         0\n",
       "dtype: int64"
      ]
     },
     "execution_count": 11,
     "metadata": {},
     "output_type": "execute_result"
    }
   ],
   "source": [
    "# 缺失值\n",
    "df.isna().sum()"
   ]
  },
  {
   "cell_type": "code",
   "execution_count": 12,
   "metadata": {},
   "outputs": [],
   "source": [
    "df.replace('暂无',np.nan,inplace=True)\n",
    "df['建筑面积'] = df['建筑面积'].map(lambda x: x.replace('平米','')).astype('float')\n",
    "df['单价'] = df['单价'].map(lambda x: x.replace('元/平米','')).astype('float')\n",
    "def process_year(year):\n",
    "    if year is not None:\n",
    "        year = str(year)[:4]\n",
    "    return year   \n",
    "df['建筑年代'] = df['建筑年代'].map(process_year)\n",
    "floor = {'低楼层': '低','中楼层': '中','高楼层': '高','低层': '低','中层': '中','高层': '高'}\n",
    "df['楼层'] = df['楼层'].map(floor)\n",
    "def process_area(area):\n",
    "    if area != '新区':\n",
    "        area = area.replace('区','').replace('县','')\n",
    "    return area   \n",
    "df['区域'] = df['区域'].map(process_area)\n",
    "df.replace('nan',np.nan,inplace=True)"
   ]
  },
  {
   "cell_type": "code",
   "execution_count": 13,
   "metadata": {},
   "outputs": [
    {
     "data": {
      "text/html": [
       "<div>\n",
       "<style scoped>\n",
       "    .dataframe tbody tr th:only-of-type {\n",
       "        vertical-align: middle;\n",
       "    }\n",
       "\n",
       "    .dataframe tbody tr th {\n",
       "        vertical-align: top;\n",
       "    }\n",
       "\n",
       "    .dataframe thead th {\n",
       "        text-align: right;\n",
       "    }\n",
       "</style>\n",
       "<table border=\"1\" class=\"dataframe\">\n",
       "  <thead>\n",
       "    <tr style=\"text-align: right;\">\n",
       "      <th></th>\n",
       "      <th>户型</th>\n",
       "      <th>建筑面积</th>\n",
       "      <th>朝向</th>\n",
       "      <th>楼层</th>\n",
       "      <th>装修</th>\n",
       "      <th>建筑年代</th>\n",
       "      <th>电梯</th>\n",
       "      <th>产权性质</th>\n",
       "      <th>住宅类别</th>\n",
       "      <th>建筑结构</th>\n",
       "      <th>建筑类别</th>\n",
       "      <th>区域</th>\n",
       "      <th>学校</th>\n",
       "      <th>总价</th>\n",
       "      <th>单价</th>\n",
       "    </tr>\n",
       "  </thead>\n",
       "  <tbody>\n",
       "    <tr>\n",
       "      <th>0</th>\n",
       "      <td>2室2厅1卫</td>\n",
       "      <td>104.66</td>\n",
       "      <td>南</td>\n",
       "      <td>高</td>\n",
       "      <td>毛坯</td>\n",
       "      <td>2020</td>\n",
       "      <td>有</td>\n",
       "      <td>商品房</td>\n",
       "      <td>普通住宅</td>\n",
       "      <td>平层</td>\n",
       "      <td>板楼</td>\n",
       "      <td>城关</td>\n",
       "      <td>0</td>\n",
       "      <td>191.0</td>\n",
       "      <td>18250.0</td>\n",
       "    </tr>\n",
       "    <tr>\n",
       "      <th>1</th>\n",
       "      <td>1室1厅1卫</td>\n",
       "      <td>48.86</td>\n",
       "      <td>南北</td>\n",
       "      <td>中</td>\n",
       "      <td>简装修</td>\n",
       "      <td>2020</td>\n",
       "      <td>无</td>\n",
       "      <td>商品房</td>\n",
       "      <td>普通住宅</td>\n",
       "      <td>平层</td>\n",
       "      <td>板楼</td>\n",
       "      <td>城关</td>\n",
       "      <td>1</td>\n",
       "      <td>63.0</td>\n",
       "      <td>12894.0</td>\n",
       "    </tr>\n",
       "    <tr>\n",
       "      <th>2</th>\n",
       "      <td>1室3厅1卫</td>\n",
       "      <td>80.00</td>\n",
       "      <td>南北</td>\n",
       "      <td>低</td>\n",
       "      <td>简装修</td>\n",
       "      <td>NaN</td>\n",
       "      <td>无</td>\n",
       "      <td>房改房</td>\n",
       "      <td>NaN</td>\n",
       "      <td>平层</td>\n",
       "      <td>NaN</td>\n",
       "      <td>城关</td>\n",
       "      <td>0</td>\n",
       "      <td>118.0</td>\n",
       "      <td>14750.0</td>\n",
       "    </tr>\n",
       "    <tr>\n",
       "      <th>3</th>\n",
       "      <td>3室2厅2卫</td>\n",
       "      <td>118.00</td>\n",
       "      <td>南北</td>\n",
       "      <td>中</td>\n",
       "      <td>NaN</td>\n",
       "      <td>NaN</td>\n",
       "      <td>NaN</td>\n",
       "      <td>NaN</td>\n",
       "      <td>NaN</td>\n",
       "      <td>NaN</td>\n",
       "      <td>NaN</td>\n",
       "      <td>安宁</td>\n",
       "      <td>0</td>\n",
       "      <td>142.0</td>\n",
       "      <td>12034.0</td>\n",
       "    </tr>\n",
       "    <tr>\n",
       "      <th>4</th>\n",
       "      <td>3室2厅1卫</td>\n",
       "      <td>94.66</td>\n",
       "      <td>南</td>\n",
       "      <td>中</td>\n",
       "      <td>毛坯</td>\n",
       "      <td>2015</td>\n",
       "      <td>有</td>\n",
       "      <td>个人产权</td>\n",
       "      <td>普通住宅</td>\n",
       "      <td>平层</td>\n",
       "      <td>板楼</td>\n",
       "      <td>安宁</td>\n",
       "      <td>0</td>\n",
       "      <td>110.0</td>\n",
       "      <td>11621.0</td>\n",
       "    </tr>\n",
       "  </tbody>\n",
       "</table>\n",
       "</div>"
      ],
      "text/plain": [
       "       户型    建筑面积  朝向 楼层   装修  建筑年代   电梯  产权性质  住宅类别 建筑结构 建筑类别  区域  学校     总价       单价\n",
       "0  2室2厅1卫  104.66   南  高   毛坯  2020   有    商品房  普通住宅   平层   板楼  城关   0  191.0  18250.0\n",
       "1  1室1厅1卫   48.86  南北  中  简装修  2020   无    商品房  普通住宅   平层   板楼  城关   1   63.0  12894.0\n",
       "2  1室3厅1卫   80.00  南北  低  简装修   NaN   无    房改房   NaN   平层  NaN  城关   0  118.0  14750.0\n",
       "3  3室2厅2卫  118.00  南北  中  NaN   NaN  NaN   NaN   NaN  NaN  NaN  安宁   0  142.0  12034.0\n",
       "4  3室2厅1卫   94.66   南  中   毛坯  2015   有   个人产权  普通住宅   平层   板楼  安宁   0  110.0  11621.0"
      ]
     },
     "execution_count": 13,
     "metadata": {},
     "output_type": "execute_result"
    }
   ],
   "source": [
    "df.drop_duplicates(inplace=True)\n",
    "df.reset_index(drop=True, inplace=True)\n",
    "df.head()"
   ]
  },
  {
   "cell_type": "code",
   "execution_count": 14,
   "metadata": {},
   "outputs": [
    {
     "name": "stdout",
     "output_type": "stream",
     "text": [
      "<class 'pandas.core.frame.DataFrame'>\n",
      "RangeIndex: 6608 entries, 0 to 6607\n",
      "Data columns (total 15 columns):\n",
      " #   Column  Non-Null Count  Dtype  \n",
      "---  ------  --------------  -----  \n",
      " 0   户型      6597 non-null   object \n",
      " 1   建筑面积    6608 non-null   float64\n",
      " 2   朝向      6601 non-null   object \n",
      " 3   楼层      6603 non-null   object \n",
      " 4   装修      5202 non-null   object \n",
      " 5   建筑年代    5138 non-null   object \n",
      " 6   电梯      5307 non-null   object \n",
      " 7   产权性质    5307 non-null   object \n",
      " 8   住宅类别    4619 non-null   object \n",
      " 9   建筑结构    3840 non-null   object \n",
      " 10  建筑类别    4829 non-null   object \n",
      " 11  区域      6608 non-null   object \n",
      " 12  学校      6608 non-null   int64  \n",
      " 13  总价      6608 non-null   float64\n",
      " 14  单价      6608 non-null   float64\n",
      "dtypes: float64(3), int64(1), object(11)\n",
      "memory usage: 774.5+ KB\n"
     ]
    }
   ],
   "source": [
    "df.info()"
   ]
  },
  {
   "cell_type": "code",
   "execution_count": 16,
   "metadata": {},
   "outputs": [
    {
     "data": {
      "text/html": [
       "<div>\n",
       "<style scoped>\n",
       "    .dataframe tbody tr th:only-of-type {\n",
       "        vertical-align: middle;\n",
       "    }\n",
       "\n",
       "    .dataframe tbody tr th {\n",
       "        vertical-align: top;\n",
       "    }\n",
       "\n",
       "    .dataframe thead th {\n",
       "        text-align: right;\n",
       "    }\n",
       "</style>\n",
       "<table border=\"1\" class=\"dataframe\">\n",
       "  <thead>\n",
       "    <tr style=\"text-align: right;\">\n",
       "      <th></th>\n",
       "      <th>户型</th>\n",
       "      <th>建筑面积</th>\n",
       "      <th>朝向</th>\n",
       "      <th>楼层</th>\n",
       "      <th>装修</th>\n",
       "      <th>建筑年代</th>\n",
       "      <th>电梯</th>\n",
       "      <th>产权性质</th>\n",
       "      <th>住宅类别</th>\n",
       "      <th>建筑结构</th>\n",
       "      <th>建筑类别</th>\n",
       "      <th>区域</th>\n",
       "      <th>学校</th>\n",
       "      <th>总价</th>\n",
       "      <th>单价</th>\n",
       "    </tr>\n",
       "  </thead>\n",
       "  <tbody>\n",
       "    <tr>\n",
       "      <th>0</th>\n",
       "      <td>2室2厅1卫</td>\n",
       "      <td>104.66</td>\n",
       "      <td>南</td>\n",
       "      <td>高</td>\n",
       "      <td>毛坯</td>\n",
       "      <td>2020</td>\n",
       "      <td>有</td>\n",
       "      <td>商品房</td>\n",
       "      <td>普通住宅</td>\n",
       "      <td>平层</td>\n",
       "      <td>板楼</td>\n",
       "      <td>城关</td>\n",
       "      <td>0</td>\n",
       "      <td>191.0</td>\n",
       "      <td>18250.0</td>\n",
       "    </tr>\n",
       "    <tr>\n",
       "      <th>1</th>\n",
       "      <td>1室1厅1卫</td>\n",
       "      <td>48.86</td>\n",
       "      <td>南北</td>\n",
       "      <td>中</td>\n",
       "      <td>简装修</td>\n",
       "      <td>2020</td>\n",
       "      <td>无</td>\n",
       "      <td>商品房</td>\n",
       "      <td>普通住宅</td>\n",
       "      <td>平层</td>\n",
       "      <td>板楼</td>\n",
       "      <td>城关</td>\n",
       "      <td>1</td>\n",
       "      <td>63.0</td>\n",
       "      <td>12894.0</td>\n",
       "    </tr>\n",
       "    <tr>\n",
       "      <th>2</th>\n",
       "      <td>1室3厅1卫</td>\n",
       "      <td>80.00</td>\n",
       "      <td>南北</td>\n",
       "      <td>低</td>\n",
       "      <td>简装修</td>\n",
       "      <td>NaN</td>\n",
       "      <td>无</td>\n",
       "      <td>房改房</td>\n",
       "      <td>NaN</td>\n",
       "      <td>平层</td>\n",
       "      <td>NaN</td>\n",
       "      <td>城关</td>\n",
       "      <td>0</td>\n",
       "      <td>118.0</td>\n",
       "      <td>14750.0</td>\n",
       "    </tr>\n",
       "    <tr>\n",
       "      <th>3</th>\n",
       "      <td>3室2厅2卫</td>\n",
       "      <td>118.00</td>\n",
       "      <td>南北</td>\n",
       "      <td>中</td>\n",
       "      <td>NaN</td>\n",
       "      <td>NaN</td>\n",
       "      <td>无</td>\n",
       "      <td>NaN</td>\n",
       "      <td>NaN</td>\n",
       "      <td>NaN</td>\n",
       "      <td>NaN</td>\n",
       "      <td>安宁</td>\n",
       "      <td>0</td>\n",
       "      <td>142.0</td>\n",
       "      <td>12034.0</td>\n",
       "    </tr>\n",
       "    <tr>\n",
       "      <th>4</th>\n",
       "      <td>3室2厅1卫</td>\n",
       "      <td>94.66</td>\n",
       "      <td>南</td>\n",
       "      <td>中</td>\n",
       "      <td>毛坯</td>\n",
       "      <td>2015</td>\n",
       "      <td>有</td>\n",
       "      <td>个人产权</td>\n",
       "      <td>普通住宅</td>\n",
       "      <td>平层</td>\n",
       "      <td>板楼</td>\n",
       "      <td>安宁</td>\n",
       "      <td>0</td>\n",
       "      <td>110.0</td>\n",
       "      <td>11621.0</td>\n",
       "    </tr>\n",
       "  </tbody>\n",
       "</table>\n",
       "</div>"
      ],
      "text/plain": [
       "       户型    建筑面积  朝向 楼层   装修  建筑年代  电梯  产权性质  住宅类别 建筑结构 建筑类别  区域  学校     总价       单价\n",
       "0  2室2厅1卫  104.66   南  高   毛坯  2020  有    商品房  普通住宅   平层   板楼  城关   0  191.0  18250.0\n",
       "1  1室1厅1卫   48.86  南北  中  简装修  2020  无    商品房  普通住宅   平层   板楼  城关   1   63.0  12894.0\n",
       "2  1室3厅1卫   80.00  南北  低  简装修   NaN  无    房改房   NaN   平层  NaN  城关   0  118.0  14750.0\n",
       "3  3室2厅2卫  118.00  南北  中  NaN   NaN   无   NaN   NaN  NaN  NaN  安宁   0  142.0  12034.0\n",
       "4  3室2厅1卫   94.66   南  中   毛坯  2015  有   个人产权  普通住宅   平层   板楼  安宁   0  110.0  11621.0"
      ]
     },
     "execution_count": 16,
     "metadata": {},
     "output_type": "execute_result"
    }
   ],
   "source": [
    "df.dropna(subset=['户型', '朝向', '楼层'])\n",
    "df.loc[(df['楼层'] == '高') & (df['电梯'].isnull()), '电梯'] = '有'\n",
    "df.loc[(df['楼层'] == '低') & (df['电梯'].isnull()), '电梯'] = '无'\n",
    "df.loc[(df['楼层'] == '中') & (df['电梯'].isnull()), '电梯'] = random.choice(['有', '无'])\n",
    "df.reset_index(drop=True, inplace=True)\n",
    "df.head()"
   ]
  },
  {
   "cell_type": "code",
   "execution_count": 24,
   "metadata": {
    "collapsed": true
   },
   "outputs": [
    {
     "data": {
      "text/plain": [
       "<AxesSubplot:>"
      ]
     },
     "execution_count": 24,
     "metadata": {},
     "output_type": "execute_result"
    },
    {
     "data": {
      "image/png": "[encoded data removed]",
      "text/plain": [
       "<Figure size 864x432 with 2 Axes>"
      ]
     },
     "metadata": {
      "needs_background": "light"
     },
     "output_type": "display_data"
    }
   ],
   "source": [
    "# 箱线图分析\n",
    "plt.rcParams['font.sans-serif'] = ['SimHei']\n",
    "plt.rcParams['axes.unicode_minus'] = False\n",
    "fig, ax = plt.subplots(1, 2, figsize=(12,6))\n",
    "df.boxplot(column=['建筑面积'], ax=ax[0])\n",
    "df.boxplot(column=['总价'], ax=ax[1])"
   ]
  },
  {
   "cell_type": "code",
   "execution_count": 25,
   "metadata": {},
   "outputs": [],
   "source": [
    "# 将高于房价200万的删除\n",
    "df.drop(index = df[df['总价'] > 200].index, inplace=True)"
   ]
  },
  {
   "cell_type": "code",
   "execution_count": 26,
   "metadata": {},
   "outputs": [],
   "source": [
    "# 另存为新文件\n",
    "df.to_excel('house.xlsx',encoding='utf8',index=False)"
   ]
  },
  {
   "cell_type": "code",
   "execution_count": 32,
   "metadata": {
    "collapsed": true
   },
   "outputs": [
    {
     "data": {
      "text/plain": [
       "<AxesSubplot:ylabel='总价'>"
      ]
     },
     "execution_count": 32,
     "metadata": {},
     "output_type": "execute_result"
    },
    {
     "data": {
      "image/png": "[encoded data removed]",
      "text/plain": [
       "<Figure size 432x1296 with 3 Axes>"
      ]
     },
     "metadata": {
      "needs_background": "light"
     },
     "output_type": "display_data"
    }
   ],
   "source": [
    "# 探究单价、数量、总价和行政区域之间的关系\n",
    "fig, ax = plt.subplots(3,1, figsize=(6, 18))\n",
    "x = df['区域'].unique()\n",
    "y1 = df.groupby(['区域'])['单价'].mean().sort_values(ascending=False)\n",
    "sns.barplot(x, y1, ax=ax[0], palette='Blues_r')\n",
    "y2 = df.groupby(['区域']).size().sort_values(ascending=False)\n",
    "sns.barplot(x, y2, ax=ax[1], palette='BuGn_r')\n",
    "y3 = df.groupby(['区域'])['总价'].mean().sort_values(ascending=False)\n",
    "sns.barplot(x, y3, ax=ax[2], palette='Oranges_d')"
   ]
  },
  {
   "cell_type": "code",
   "execution_count": 37,
   "metadata": {
    "collapsed": true
   },
   "outputs": [
    {
     "data": {
      "text/plain": [
       "<AxesSubplot:xlabel='建筑面积', ylabel='总价'>"
      ]
     },
     "execution_count": 37,
     "metadata": {},
     "output_type": "execute_result"
    },
    {
     "data": {
      "image/png": "[encoded data removed]",
      "text/plain": [
       "<Figure size 432x288 with 1 Axes>"
      ]
     },
     "metadata": {
      "needs_background": "light"
     },
     "output_type": "display_data"
    }
   ],
   "source": [
    "# plt.figure(figsize=(8,8))\n",
    "sns.scatterplot(x='建筑面积', y='总价', data=df, s=14)"
   ]
  },
  {
   "cell_type": "code",
   "execution_count": 40,
   "metadata": {
    "collapsed": true
   },
   "outputs": [
    {
     "data": {
      "text/plain": [
       "<AxesSubplot:xlabel='朝向', ylabel='总价'>"
      ]
     },
     "execution_count": 40,
     "metadata": {},
     "output_type": "execute_result"
    },
    {
     "data": {
      "image/png": "[encoded data removed]",
      "text/plain": [
       "<Figure size 720x576 with 1 Axes>"
      ]
     },
     "metadata": {
      "needs_background": "light"
     },
     "output_type": "display_data"
    }
   ],
   "source": [
    "plt.figure(figsize=(10, 8))\n",
    "order = df.groupby(['朝向'])['总价'].median().sort_values(ascending=False).index\n",
    "sns.boxplot(x='朝向', y='总价', data=df, order=order)"
   ]
  },
  {
   "cell_type": "code",
   "execution_count": 43,
   "metadata": {
    "collapsed": true
   },
   "outputs": [
    {
     "data": {
      "text/plain": [
       "<AxesSubplot:xlabel='建筑年代', ylabel='count'>"
      ]
     },
     "execution_count": 43,
     "metadata": {},
     "output_type": "execute_result"
    },
    {
     "data": {
      "image/png": "[encoded data removed]",
      "text/plain": [
       "<Figure size 1152x576 with 1 Axes>"
      ]
     },
     "metadata": {
      "needs_background": "light"
     },
     "output_type": "display_data"
    }
   ],
   "source": [
    "plt.figure(figsize=(16,8))\n",
    "order = sorted(df['建筑年代'].value_counts().index)\n",
    "sns.countplot(x=df['建筑年代'],order=order)"
   ]
  },
  {
   "cell_type": "code",
   "execution_count": 44,
   "metadata": {},
   "outputs": [],
   "source": [
    "# 删除所有缺失值\n",
    "d1 = df.dropna().reset_index(drop=True)\n",
    "# 分解户型\n",
    "def apart_room(x):\n",
    "    room = x.split('室')[0]\n",
    "    return int(room)\n",
    "def apart_hall(x):\n",
    "    hall = x.split('厅')[0].split('室')[1]\n",
    "    return int(hall)\n",
    "def apart_wc(x):\n",
    "    wc = x.split('卫')[0].split('厅')[1]\n",
    "    return int(wc)\n",
    "d1['室'] = d1['户型'].map(apart_room)\n",
    "d1['厅'] = d1['户型'].map(apart_hall)\n",
    "d1['卫'] = d1['户型'].map(apart_wc)\n",
    "# 删除楼层、户型、单价\n",
    "d1.drop(columns=['户型','楼层','单价'],inplace=True)\n",
    "# 编码-有序多分类（根据上面可视化的结果，按照对价格的影响程度排序，越大影响越高）\n",
    "# 无序多分类无法直接引入，必须“哑元”化变量\n",
    "# 等级变量（有序多分类）可以直接引入模型\n",
    "map1 = {'南':5, '南北':6, '北':1, '西南':10, '东西':4, '东':2, '东北':8, '东南':9, '西':3, '西北':7}\n",
    "d1['朝向'] = d1['朝向'].map(map1)\n",
    "map2 = {'毛坯':1, '简装修':2, '精装修':3, '中装修':4, '豪华装修':5}\n",
    "d1['装修'] = d1['装修'].map(map2)\n",
    "map3 = {'有 ':1, '无 ':0}\n",
    "d1['电梯'] = d1['电梯'].map(map3)\n",
    "map4 = {'商品房':6, '个人产权':5, '商品房(免税)':7, '普通商品房':4, '经济适用房':2, '房改房':3, '限价房':8, '房本房':1}\n",
    "d1['产权性质'] = d1['产权性质'].map(map4)\n",
    "map5 = {'普通住宅':4, '经济适用房':3, '公寓':1, '商住楼':2, '酒店式公寓':5}\n",
    "d1['住宅类别'] = d1['住宅类别'].map(map5)\n",
    "map6 = {'平层':4, '开间':2, '跃层':5, '错层':1, '复式':3}\n",
    "d1['建筑结构'] = d1['建筑结构'].map(map6)\n",
    "map7 = {'板楼':4, '钢混':5, '塔板结合':3, '平房':6, '砖混':1, '塔楼':7, '砖楼':2}\n",
    "d1['建筑类别'] = d1['建筑类别'].map(map7)\n",
    "map8 = {'城关':6, '安宁':5, '七里河':4, '西固':3,'榆中':2, '永登':1}\n",
    "d1['区域'] = d1['区域'].map(map8)\n",
    "# 删除超过2019年的房子，年代转变为房龄\n",
    "d1['建筑年代'] = d1['建筑年代'].astype('int32')\n",
    "d1.drop(index=d1[d1['建筑年代']>2019].index,inplace=True)\n",
    "d1['房龄'] = d1['建筑年代'].map(lambda x: 2020-x)\n",
    "d1.drop(columns=['建筑年代'],inplace=True)"
   ]
  },
  {
   "cell_type": "code",
   "execution_count": 46,
   "metadata": {},
   "outputs": [],
   "source": [
    "X = d1.drop(columns=['总价'])\n",
    "y = d1['总价']\n",
    "X_train, X_test, y_train, y_test = train_test_split(X, y,random_state=33)\n",
    "poly = PolynomialFeatures(degree=2)\n",
    "x_train = poly.fit_transform(X_train)\n",
    "x_test = poly.fit_transform(X_test)"
   ]
  },
  {
   "cell_type": "code",
   "execution_count": 48,
   "metadata": {
    "scrolled": true
   },
   "outputs": [
    {
     "data": {
      "text/plain": [
       "(1938, 120)"
      ]
     },
     "execution_count": 48,
     "metadata": {},
     "output_type": "execute_result"
    }
   ],
   "source": [
    "x_train.shape"
   ]
  },
  {
   "cell_type": "code",
   "execution_count": 49,
   "metadata": {},
   "outputs": [
    {
     "name": "stdout",
     "output_type": "stream",
     "text": [
      "训练集得分：0.71\n",
      "测试集得分：0.71\n"
     ]
    }
   ],
   "source": [
    "# 套索回归\n",
    "la = Lasso(alpha=0.1,max_iter=100000)\n",
    "la.fit(x_train,y_train)\n",
    "print(f'训练集得分：{round(la.score(x_train,y_train),2)}')\n",
    "print(f'测试集得分：{round(la.score(x_test,y_test),2)}')"
   ]
  },
  {
   "cell_type": "code",
   "execution_count": 50,
   "metadata": {},
   "outputs": [
    {
     "name": "stdout",
     "output_type": "stream",
     "text": [
      "训练集得分：0.96\n",
      "测试集得分：0.77\n"
     ]
    }
   ],
   "source": [
    "# 随机森林\n",
    "rf = RandomForestRegressor()\n",
    "rf.fit(x_train,y_train)\n",
    "print(f'训练集得分：{round(rf.score(x_train,y_train),2)}')\n",
    "print(f'测试集得分：{round(rf.score(x_test,y_test),2)}')"
   ]
  },
  {
   "cell_type": "code",
   "execution_count": 51,
   "metadata": {},
   "outputs": [
    {
     "name": "stdout",
     "output_type": "stream",
     "text": [
      "训练集得分：0.76\n",
      "测试集得分：0.71\n"
     ]
    }
   ],
   "source": [
    "dt = DecisionTreeRegressor(max_depth = 6)\n",
    "dt.fit(x_train,y_train)\n",
    "print(f'训练集得分：{round(dt.score(x_train,y_train),2)}')\n",
    "print(f'测试集得分：{round(dt.score(x_test,y_test),2)}')"
   ]
  },
  {
   "cell_type": "code",
   "execution_count": 52,
   "metadata": {},
   "outputs": [
    {
     "name": "stdout",
     "output_type": "stream",
     "text": [
      "训练集得分：0.7\n",
      "测试集得分：0.7\n"
     ]
    }
   ],
   "source": [
    "# k近邻\n",
    "\n",
    "kn = KNeighborsRegressor(n_neighbors=20)\n",
    "kn.fit(x_train,y_train)\n",
    "print(f'训练集得分：{round(kn.score(x_train,y_train),2)}')\n",
    "print(f'测试集得分：{round(kn.score(x_test,y_test),2)}')"
   ]
  },
  {
   "cell_type": "code",
   "execution_count": 53,
   "metadata": {},
   "outputs": [
    {
     "name": "stdout",
     "output_type": "stream",
     "text": [
      "------------总价预测结果-------------\n",
      "线性回归：135.15万元\n",
      "随机森林回归：152.41万元\n",
      "决策树回归：133.37万元\n",
      "K近邻回归：135.24万元\n",
      "------------综合预测结果-------------\n",
      "139.04 万元\n"
     ]
    }
   ],
   "source": [
    "apply = np.array([95,10,4,0,5,4,4,5,6,1,3,1,1,10]).reshape(1,-1)\n",
    "poly_apply = poly.fit_transform(apply)\n",
    "print('------------总价预测结果-------------')\n",
    "print(f'线性回归：{round(la.predict(poly_apply)[0],2)}万元')\n",
    "print(f'随机森林回归：{round(rf.predict(poly_apply)[0],2)}万元')\n",
    "print(f'决策树回归：{round(dt.predict(poly_apply)[0],2)}万元')\n",
    "print(f'K近邻回归：{round(kn.predict(poly_apply)[0],2)}万元')\n",
    "print('------------综合预测结果-------------')\n",
    "print(round(((la.predict(poly_apply)+rf.predict(poly_apply)+dt.predict(poly_apply)+kn.predict(poly_apply))/4.0)[0],2),'万元')"
   ]
  },
  {
   "cell_type": "code",
   "execution_count": 54,
   "metadata": {},
   "outputs": [
    {
     "data": {
      "text/plain": [
       "array([135.14581035])"
      ]
     },
     "execution_count": 54,
     "metadata": {},
     "output_type": "execute_result"
    }
   ],
   "source": [
    "la.predict(poly_apply)"
   ]
  },
  {
   "cell_type": "code",
   "execution_count": null,
   "metadata": {},
   "outputs": [],
   "source": []
  }
 ],
 "metadata": {
  "kernelspec": {
   "display_name": "Python 3",
   "language": "python",
   "name": "python3"
  },
  "language_info": {
   "codemirror_mode": {
    "name": "ipython",
    "version": 3
   },
   "file_extension": ".py",
   "mimetype": "text/x-python",
   "name": "python",
   "nbconvert_exporter": "python",
   "pygments_lexer": "ipython3",
   "version": "3.7.6"
  }
 },
 "nbformat": 4,
 "nbformat_minor": 4
}
