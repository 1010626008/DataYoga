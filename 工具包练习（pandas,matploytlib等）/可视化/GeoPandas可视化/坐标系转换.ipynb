{
 "cells": [
  {
   "cell_type": "code",
   "execution_count": 1,
   "metadata": {},
   "outputs": [],
   "source": [
    "import numpy as np\n",
    "import pandas as pd\n",
    "import geopandas as gpd\n",
    "from shapely.geometry import Point"
   ]
  },
  {
   "cell_type": "code",
   "execution_count": 38,
   "metadata": {},
   "outputs": [],
   "source": [
    "traj = pd.read_csv('D:\\datalab\\智慧海洋\\智慧海洋\\hy_round2_train_20200225/20000.csv')\n",
    "traj = pd.concat([traj, pd.read_csv('D:\\datalab\\智慧海洋\\智慧海洋\\hy_round2_train_20200225/20001.csv')])"
   ]
  },
  {
   "cell_type": "code",
   "execution_count": 34,
   "metadata": {},
   "outputs": [
    {
     "name": "stderr",
     "output_type": "stream",
     "text": [
      "D:\\Software\\anaconda3\\lib\\site-packages\\pyproj\\crs\\crs.py:53: FutureWarning: '+init=<authority>:<code>' syntax is deprecated. '<authority>:<code>' is the preferred initialization method. When making the change, be mindful of axis order changes: https://pyproj4.github.io/pyproj/stable/gotchas.html#axis-order-changes-in-proj-6\n",
      "  return _prepare_from_string(\" \".join(pjargs))\n"
     ]
    }
   ],
   "source": [
    "traj[\"x\"], traj[\"y\"] = traj[\"lon\"].copy(), traj[\"lat\"].copy()\n",
    "traj_geo = [Point(xy) for xy in zip(traj.x, traj.y)]\n",
    "crs = {'init': 'epsg:4326'}\n",
    "gdf = gpd.GeoDataFrame(traj_geo, crs=crs, geometry=traj_geo)\n",
    "gdf = gdf.to_crs(crs=\"epsg:3395\")\n",
    "traj[\"x\"], traj[\"y\"] = gdf[\"geometry\"].x, gdf[\"geometry\"].y"
   ]
  },
  {
   "cell_type": "code",
   "execution_count": 39,
   "metadata": {},
   "outputs": [
    {
     "data": {
      "text/plain": [
       "(1339, 7)"
      ]
     },
     "execution_count": 39,
     "metadata": {},
     "output_type": "execute_result"
    }
   ],
   "source": [
    "traj.shape"
   ]
  },
  {
   "cell_type": "code",
   "execution_count": 40,
   "metadata": {},
   "outputs": [],
   "source": [
    "L=[np.random.randint(0,4) for _ in range(len(traj)) ]\n",
    "traj['no_bin'] = L"
   ]
  },
  {
   "cell_type": "code",
   "execution_count": 41,
   "metadata": {},
   "outputs": [
    {
     "data": {
      "text/html": [
       "<div>\n",
       "<style scoped>\n",
       "    .dataframe tbody tr th:only-of-type {\n",
       "        vertical-align: middle;\n",
       "    }\n",
       "\n",
       "    .dataframe tbody tr th {\n",
       "        vertical-align: top;\n",
       "    }\n",
       "\n",
       "    .dataframe thead th {\n",
       "        text-align: right;\n",
       "    }\n",
       "</style>\n",
       "<table border=\"1\" class=\"dataframe\">\n",
       "  <thead>\n",
       "    <tr style=\"text-align: right;\">\n",
       "      <th></th>\n",
       "      <th>渔船ID</th>\n",
       "      <th>lat</th>\n",
       "      <th>lon</th>\n",
       "      <th>速度</th>\n",
       "      <th>方向</th>\n",
       "      <th>time</th>\n",
       "      <th>type</th>\n",
       "      <th>no_bin</th>\n",
       "    </tr>\n",
       "  </thead>\n",
       "  <tbody>\n",
       "    <tr>\n",
       "      <th>0</th>\n",
       "      <td>20000</td>\n",
       "      <td>21.295</td>\n",
       "      <td>115.563</td>\n",
       "      <td>2.32</td>\n",
       "      <td>50</td>\n",
       "      <td>0912 23:59:55</td>\n",
       "      <td>拖网</td>\n",
       "      <td>3</td>\n",
       "    </tr>\n",
       "    <tr>\n",
       "      <th>1</th>\n",
       "      <td>20000</td>\n",
       "      <td>21.289</td>\n",
       "      <td>115.557</td>\n",
       "      <td>3.29</td>\n",
       "      <td>30</td>\n",
       "      <td>0912 23:49:54</td>\n",
       "      <td>拖网</td>\n",
       "      <td>2</td>\n",
       "    </tr>\n",
       "    <tr>\n",
       "      <th>2</th>\n",
       "      <td>20000</td>\n",
       "      <td>21.282</td>\n",
       "      <td>115.551</td>\n",
       "      <td>3.08</td>\n",
       "      <td>40</td>\n",
       "      <td>0912 23:39:26</td>\n",
       "      <td>拖网</td>\n",
       "      <td>3</td>\n",
       "    </tr>\n",
       "    <tr>\n",
       "      <th>3</th>\n",
       "      <td>20000</td>\n",
       "      <td>21.274</td>\n",
       "      <td>115.547</td>\n",
       "      <td>3.51</td>\n",
       "      <td>20</td>\n",
       "      <td>0912 23:29:49</td>\n",
       "      <td>拖网</td>\n",
       "      <td>1</td>\n",
       "    </tr>\n",
       "    <tr>\n",
       "      <th>4</th>\n",
       "      <td>20000</td>\n",
       "      <td>21.267</td>\n",
       "      <td>115.543</td>\n",
       "      <td>3.08</td>\n",
       "      <td>10</td>\n",
       "      <td>0912 23:19:48</td>\n",
       "      <td>拖网</td>\n",
       "      <td>3</td>\n",
       "    </tr>\n",
       "  </tbody>\n",
       "</table>\n",
       "</div>"
      ],
      "text/plain": [
       "    渔船ID     lat      lon    速度  方向           time type  no_bin\n",
       "0  20000  21.295  115.563  2.32  50  0912 23:59:55   拖网       3\n",
       "1  20000  21.289  115.557  3.29  30  0912 23:49:54   拖网       2\n",
       "2  20000  21.282  115.551  3.08  40  0912 23:39:26   拖网       3\n",
       "3  20000  21.274  115.547  3.51  20  0912 23:29:49   拖网       1\n",
       "4  20000  21.267  115.543  3.08  10  0912 23:19:48   拖网       3"
      ]
     },
     "execution_count": 41,
     "metadata": {},
     "output_type": "execute_result"
    }
   ],
   "source": [
    "traj.head()"
   ]
  },
  {
   "cell_type": "code",
   "execution_count": 26,
   "metadata": {},
   "outputs": [],
   "source": [
    "bin_to_coord_df = traj.groupby([\"no_bin\"]).median().reset_index().drop([\"渔船ID\"], axis=1)"
   ]
  },
  {
   "cell_type": "code",
   "execution_count": 48,
   "metadata": {},
   "outputs": [],
   "source": [
    "unique_boat_count_df = traj.groupby([\"no_bin\"])[\"渔船ID\"]"
   ]
  },
  {
   "cell_type": "code",
   "execution_count": 53,
   "metadata": {},
   "outputs": [
    {
     "data": {
      "text/plain": [
       "no_bin\n",
       "0    [20000, 20001]\n",
       "1    [20000, 20001]\n",
       "2    [20000, 20001]\n",
       "3    [20000, 20001]\n",
       "Name: 渔船ID, dtype: object"
      ]
     },
     "execution_count": 53,
     "metadata": {},
     "output_type": "execute_result"
    }
   ],
   "source": [
    "unique_boat_count_df.unique()"
   ]
  },
  {
   "cell_type": "code",
   "execution_count": 47,
   "metadata": {},
   "outputs": [
    {
     "data": {
      "text/plain": [
       "array([20000, 20001], dtype=int64)"
      ]
     },
     "execution_count": 47,
     "metadata": {},
     "output_type": "execute_result"
    }
   ],
   "source": [
    "traj['渔船ID'].unique()"
   ]
  },
  {
   "cell_type": "code",
   "execution_count": null,
   "metadata": {},
   "outputs": [],
   "source": []
  }
 ],
 "metadata": {
  "kernelspec": {
   "display_name": "Python 3",
   "language": "python",
   "name": "python3"
  },
  "language_info": {
   "codemirror_mode": {
    "name": "ipython",
    "version": 3
   },
   "file_extension": ".py",
   "mimetype": "text/x-python",
   "name": "python",
   "nbconvert_exporter": "python",
   "pygments_lexer": "ipython3",
   "version": "3.7.6"
  }
 },
 "nbformat": 4,
 "nbformat_minor": 4
}
