{
 "cells": [
  {
   "cell_type": "code",
   "execution_count": 9,
   "source": [
    "from sklearn.datasets import make_classification\r\n",
    "from sklearn.model_selection import train_test_split\r\n",
    "from sklearn.metrics import balanced_accuracy_score\r\n",
    "from sklearn.ensemble import BaggingClassifier\r\n",
    "from imblearn.ensemble import BalancedBaggingClassifier\r\n",
    "from sklearn.tree import DecisionTreeClassifier\r\n",
    "from collections import Counter"
   ],
   "outputs": [],
   "metadata": {}
  },
  {
   "cell_type": "code",
   "execution_count": 6,
   "source": [
    "X, y = make_classification(n_samples=10000, n_features=2, n_informative=2,\r\n",
    "                           n_redundant=0, n_repeated=0, n_classes=3,\r\n",
    "                           n_clusters_per_class=1,\r\n",
    "                           weights=[0.01, 0.05, 0.94], class_sep=0.8,\r\n",
    "                           random_state=0)\r\n",
    "X_train, X_test, y_train, y_test = train_test_split(X, y, random_state=0)\r\n",
    "print(Counter(y_train))"
   ],
   "outputs": [
    {
     "output_type": "stream",
     "name": "stdout",
     "text": [
      "Counter({2: 7017, 1: 388, 0: 95})\n"
     ]
    }
   ],
   "metadata": {}
  },
  {
   "cell_type": "code",
   "execution_count": 8,
   "source": [
    "# 非平衡\r\n",
    "bc = BaggingClassifier(base_estimator=DecisionTreeClassifier(),\r\n",
    "                       random_state=0)\r\n",
    "bc.fit(X_train, y_train) \r\n",
    "\r\n",
    "y_pred = bc.predict(X_test)\r\n",
    "balanced_accuracy_score(y_test, y_pred)  "
   ],
   "outputs": [
    {
     "output_type": "execute_result",
     "data": {
      "text/plain": [
       "0.7739629664028289"
      ]
     },
     "metadata": {},
     "execution_count": 8
    }
   ],
   "metadata": {}
  },
  {
   "cell_type": "code",
   "execution_count": 10,
   "source": [
    "\r\n",
    "# 平衡\r\n",
    "bbc = BalancedBaggingClassifier(base_estimator=DecisionTreeClassifier(),\r\n",
    "                                sampling_strategy='auto',\r\n",
    "                                replacement=False,\r\n",
    "                                random_state=0)\r\n",
    "bbc.fit(X_train, y_train) \r\n",
    "\r\n",
    "y_pred = bbc.predict(X_test)\r\n",
    "balanced_accuracy_score(y_test, y_pred)  "
   ],
   "outputs": [
    {
     "output_type": "execute_result",
     "data": {
      "text/plain": [
       "0.8251353587264241"
      ]
     },
     "metadata": {},
     "execution_count": 10
    }
   ],
   "metadata": {}
  },
  {
   "cell_type": "code",
   "execution_count": null,
   "source": [],
   "outputs": [],
   "metadata": {}
  }
 ],
 "metadata": {
  "orig_nbformat": 4,
  "language_info": {
   "name": "python",
   "version": "3.7.10",
   "mimetype": "text/x-python",
   "codemirror_mode": {
    "name": "ipython",
    "version": 3
   },
   "pygments_lexer": "ipython3",
   "nbconvert_exporter": "python",
   "file_extension": ".py"
  },
  "kernelspec": {
   "name": "python3",
   "display_name": "Python 3.7.10 64-bit ('syc': conda)"
  },
  "interpreter": {
   "hash": "eee91014606a4e47211385850c7cdb5eab8cb4983e6ed508f09a8790803beb70"
  }
 },
 "nbformat": 4,
 "nbformat_minor": 2
}