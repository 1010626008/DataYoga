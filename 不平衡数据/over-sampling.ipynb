{
 "cells": [
  {
   "cell_type": "code",
   "execution_count": 1,
   "source": [
    "from sklearn.datasets import make_classification\r\n",
    "from imblearn.over_sampling import RandomOverSampler\r\n",
    "from collections import Counter\r\n"
   ],
   "outputs": [],
   "metadata": {}
  },
  {
   "cell_type": "code",
   "execution_count": null,
   "source": [
    "X, y = make_classification(n_samples=5000, n_features=2, n_informative=2,\r\n",
    "                           n_redundant=0, n_repeated=0, n_classes=3,\r\n",
    "                           n_clusters_per_class=1,\r\n",
    "                           weights=[0.01, 0.05, 0.94],\r\n",
    "                           class_sep=0.8, random_state=0)\r\n",
    "print(sorted(Counter(y).items()))"
   ],
   "outputs": [],
   "metadata": {}
  },
  {
   "cell_type": "code",
   "execution_count": null,
   "source": [
    "ros = RandomOverSampler(random_state=0)\r\n",
    "X_resampled, y_resampled = ros.fit_resample(X, y)\r\n",
    "print(sorted(Counter(y_resampled).items()))"
   ],
   "outputs": [],
   "metadata": {}
  }
 ],
 "metadata": {
  "orig_nbformat": 4,
  "language_info": {
   "name": "python",
   "version": "3.7.10",
   "mimetype": "text/x-python",
   "codemirror_mode": {
    "name": "ipython",
    "version": 3
   },
   "pygments_lexer": "ipython3",
   "nbconvert_exporter": "python",
   "file_extension": ".py"
  },
  "kernelspec": {
   "name": "python3",
   "display_name": "Python 3.7.10 64-bit ('syc': conda)"
  },
  "interpreter": {
   "hash": "eee91014606a4e47211385850c7cdb5eab8cb4983e6ed508f09a8790803beb70"
  }
 },
 "nbformat": 4,
 "nbformat_minor": 2
}