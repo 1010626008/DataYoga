{
 "metadata": {
  "language_info": {
   "codemirror_mode": {
    "name": "ipython",
    "version": 3
   },
   "file_extension": ".py",
   "mimetype": "text/x-python",
   "name": "python",
   "nbconvert_exporter": "python",
   "pygments_lexer": "ipython3",
   "version": "3.7.6"
  },
  "orig_nbformat": 2,
  "kernelspec": {
   "name": "python376jvsc74a57bd05a1c65d9caf4acfee23d15ee3ad78f4edc3a2f7ad1e8216cadc6d3a468c381c6",
   "display_name": "Python 3.7.6 64-bit ('base': conda)"
  }
 },
 "nbformat": 4,
 "nbformat_minor": 2,
 "cells": [
  {
   "cell_type": "code",
   "execution_count": 1,
   "metadata": {},
   "outputs": [],
   "source": [
    "import warnings\n",
    "warnings.filterwarnings('ignore')\n",
    "\n",
    "from shapely import geometry\n",
    "import geopandas as gpd"
   ]
  },
  {
   "cell_type": "code",
   "execution_count": 6,
   "metadata": {},
   "outputs": [
    {
     "output_type": "execute_result",
     "data": {
      "text/plain": [
       "a    POINT (0.00000 0.00000)\n",
       "b    POINT (0.00000 1.00000)\n",
       "c    POINT (1.00000 0.00000)\n",
       "d    POINT (1.00000 1.00000)\n",
       "dtype: geometry"
      ]
     },
     "metadata": {},
     "execution_count": 6
    }
   ],
   "source": [
    "gpd.GeoSeries([geometry.Point((0,0)),\n",
    "              geometry.Point(0,1),\n",
    "              geometry.Point(1,0),\n",
    "              geometry.Point(1,1)],\n",
    "              index=['a', 'b', 'c', 'd'])"
   ]
  },
  {
   "cell_type": "code",
   "execution_count": 4,
   "metadata": {},
   "outputs": [
    {
     "output_type": "execute_result",
     "data": {
      "text/plain": [
       "a    MULTIPOINT (0.00000 0.00000, 0.00000 1.00000)\n",
       "b    MULTIPOINT (1.00000 0.00000, 1.00000 1.00000)\n",
       "dtype: geometry"
      ]
     },
     "metadata": {},
     "execution_count": 4
    }
   ],
   "source": [
    "# MultiPoint\n",
    "gpd.GeoSeries([geometry.MultiPoint([(0,0), (0,1)]),\n",
    "               geometry.MultiPoint([(1,0), (1,1)])],\n",
    "              index=['a', 'b'])"
   ]
  },
  {
   "cell_type": "code",
   "execution_count": 7,
   "metadata": {},
   "outputs": [
    {
     "output_type": "execute_result",
     "data": {
      "text/plain": [
       "<shapely.geometry.multipoint.MultiPoint at 0x1fd400c0cc8>"
      ],
      "image/svg+xml": "<svg xmlns=\"http://www.w3.org/2000/svg\" xmlns:xlink=\"http://www.w3.org/1999/xlink\" width=\"100.0\" height=\"100.0\" viewBox=\"-0.04 -0.04 0.08 1.08\" preserveAspectRatio=\"xMinYMin meet\"><g transform=\"matrix(1,0,0,-1,0,1.0)\"><g><circle cx=\"0.0\" cy=\"0.0\" r=\"0.0324\" stroke=\"#555555\" stroke-width=\"0.0108\" fill=\"#66cc99\" opacity=\"0.6\" /><circle cx=\"0.0\" cy=\"1.0\" r=\"0.0324\" stroke=\"#555555\" stroke-width=\"0.0108\" fill=\"#66cc99\" opacity=\"0.6\" /></g></g></svg>"
     },
     "metadata": {},
     "execution_count": 7
    }
   ],
   "source": [
    "gpd.GeoSeries([geometry.MultiPoint([(0,0), (0,1)]),\n",
    "               geometry.MultiPoint([(1,0), (1,1)])],\n",
    "              index=['a', 'b'])[0]"
   ]
  },
  {
   "cell_type": "code",
   "execution_count": 10,
   "metadata": {},
   "outputs": [
    {
     "output_type": "execute_result",
     "data": {
      "text/plain": [
       "a    LINESTRING (0.00000 0.00000, 0.00000 1.00000, ...\n",
       "b        LINESTRING (1.00000 0.00000, 1.00000 1.00000)\n",
       "dtype: geometry"
      ]
     },
     "metadata": {},
     "execution_count": 10
    }
   ],
   "source": [
    "# LineString\n",
    "gpd.GeoSeries([geometry.LineString([(0,0), (0,1), (1,1)]),\n",
    "               geometry.LineString([(1,0), (1,1)])],\n",
    "              index=['a', 'b'])"
   ]
  },
  {
   "cell_type": "code",
   "execution_count": 11,
   "metadata": {},
   "outputs": [
    {
     "output_type": "execute_result",
     "data": {
      "text/plain": [
       "<shapely.geometry.linestring.LineString at 0x1fd40285708>"
      ],
      "image/svg+xml": "<svg xmlns=\"http://www.w3.org/2000/svg\" xmlns:xlink=\"http://www.w3.org/1999/xlink\" width=\"100.0\" height=\"100.0\" viewBox=\"-0.04 -0.04 1.08 1.08\" preserveAspectRatio=\"xMinYMin meet\"><g transform=\"matrix(1,0,0,-1,0,1.0)\"><polyline fill=\"none\" stroke=\"#66cc99\" stroke-width=\"0.0216\" points=\"0.0,0.0 0.0,1.0 1.0,1.0\" opacity=\"0.8\" /></g></svg>"
     },
     "metadata": {},
     "execution_count": 11
    }
   ],
   "source": [
    "gpd.GeoSeries([geometry.LineString([(0,0), (0,1), (1,1)]),\n",
    "               geometry.LineString([(1,0), (1,1)])],\n",
    "              index=['a', 'b'])[0]"
   ]
  },
  {
   "cell_type": "code",
   "execution_count": 18,
   "metadata": {},
   "outputs": [
    {
     "output_type": "execute_result",
     "data": {
      "text/plain": [
       "<shapely.geometry.multilinestring.MultiLineString at 0x1fd4031d708>"
      ],
      "image/svg+xml": "<svg xmlns=\"http://www.w3.org/2000/svg\" xmlns:xlink=\"http://www.w3.org/1999/xlink\" width=\"100.0\" height=\"100.0\" viewBox=\"-0.2 -0.2 5.4 1.4\" preserveAspectRatio=\"xMinYMin meet\"><g transform=\"matrix(1,0,0,-1,0,1.0)\"><g><polyline fill=\"none\" stroke=\"#66cc99\" stroke-width=\"0.10800000000000001\" points=\"0.0,0.0 0.0,1.0 1.0,1.0\" opacity=\"0.8\" /><polyline fill=\"none\" stroke=\"#66cc99\" stroke-width=\"0.10800000000000001\" points=\"5.0,0.0 1.0,1.0\" opacity=\"0.8\" /></g></g></svg>"
     },
     "metadata": {},
     "execution_count": 18
    }
   ],
   "source": [
    "gpd.GeoSeries([geometry.MultiLineString([[(0,0), (0,1), (1,1)], [(5,0), (1,1)]]),\n",
    "               geometry.MultiLineString([[(0,0), (0,1), (1,1)], [(5,0), (1,1)]])],\n",
    "              index=['a', 'b'])[1]"
   ]
  },
  {
   "cell_type": "code",
   "execution_count": 21,
   "metadata": {},
   "outputs": [
    {
     "output_type": "execute_result",
     "data": {
      "text/plain": [
       "<shapely.geometry.polygon.Polygon at 0x1fd4047a808>"
      ],
      "image/svg+xml": "<svg xmlns=\"http://www.w3.org/2000/svg\" xmlns:xlink=\"http://www.w3.org/1999/xlink\" width=\"100.0\" height=\"100.0\" viewBox=\"-0.04 -0.04 1.08 1.08\" preserveAspectRatio=\"xMinYMin meet\"><g transform=\"matrix(1,0,0,-1,0,1.0)\"><path fill-rule=\"evenodd\" fill=\"#66cc99\" stroke=\"#555555\" stroke-width=\"0.0216\" opacity=\"0.6\" d=\"M 0.0,0.0 L 0.0,1.0 L 1.0,1.0 L 1.0,0.0 L 0.0,0.0 z\" /></g></svg>"
     },
     "metadata": {},
     "execution_count": 21
    }
   ],
   "source": [
    "# 无孔面\n",
    "gpd.GeoSeries([geometry.Polygon([(0,0), (0,1), (1,1), (1,0)])],\n",
    "              index=['a'])[0]"
   ]
  },
  {
   "cell_type": "code",
   "execution_count": 26,
   "metadata": {},
   "outputs": [
    {
     "output_type": "execute_result",
     "data": {
      "text/plain": [
       "0    POLYGON ((0.00000 0.00000, 0.00000 10.00000, 1...\n",
       "dtype: geometry"
      ]
     },
     "metadata": {},
     "execution_count": 26
    }
   ],
   "source": [
    "# 有孔面\n",
    "gpd.GeoSeries([geometry.Polygon([(0,0), (0,10), (10,10), (10,0)],\n",
    "                                [((1,1), (1,3), (5,3), (5,1))])])"
   ]
  },
  {
   "cell_type": "code",
   "execution_count": 27,
   "metadata": {},
   "outputs": [
    {
     "output_type": "execute_result",
     "data": {
      "text/plain": [
       "<shapely.geometry.polygon.Polygon at 0x1fd405a5b48>"
      ],
      "image/svg+xml": "<svg xmlns=\"http://www.w3.org/2000/svg\" xmlns:xlink=\"http://www.w3.org/1999/xlink\" width=\"100.0\" height=\"100.0\" viewBox=\"-0.4 -0.4 10.8 10.8\" preserveAspectRatio=\"xMinYMin meet\"><g transform=\"matrix(1,0,0,-1,0,10.0)\"><path fill-rule=\"evenodd\" fill=\"#66cc99\" stroke=\"#555555\" stroke-width=\"0.21600000000000003\" opacity=\"0.6\" d=\"M 0.0,0.0 L 0.0,10.0 L 10.0,10.0 L 10.0,0.0 L 0.0,0.0 z M 1.0,1.0 L 1.0,3.0 L 5.0,3.0 L 5.0,1.0 L 1.0,1.0 z\" /></g></svg>"
     },
     "metadata": {},
     "execution_count": 27
    }
   ],
   "source": [
    "# 有孔面\n",
    "gpd.GeoSeries([geometry.Polygon([(0,0), (0,10), (10,10), (10,0)],\n",
    "                                [((1,1), (1,3), (5,3), (5,1))])])[0]"
   ]
  },
  {
   "cell_type": "code",
   "execution_count": null,
   "metadata": {},
   "outputs": [],
   "source": []
  }
 ]
}