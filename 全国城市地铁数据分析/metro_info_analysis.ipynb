{
 "metadata": {
  "language_info": {
   "codemirror_mode": {
    "name": "ipython",
    "version": 3
   },
   "file_extension": ".py",
   "mimetype": "text/x-python",
   "name": "python",
   "nbconvert_exporter": "python",
   "pygments_lexer": "ipython3",
   "version": "3.7.10"
  },
  "orig_nbformat": 2,
  "kernelspec": {
   "name": "python3710jvsc74a57bd0eee91014606a4e47211385850c7cdb5eab8cb4983e6ed508f09a8790803beb70",
   "display_name": "Python 3.7.10 64-bit ('syc': conda)"
  }
 },
 "nbformat": 4,
 "nbformat_minor": 2,
 "cells": [
  {
   "cell_type": "code",
   "execution_count": 1,
   "metadata": {},
   "outputs": [],
   "source": [
    "import pandas as pd\n",
    "import numpy as np\n",
    "import warnings\n",
    "import os\n",
    "warnings.filterwarnings('ignore')"
   ]
  },
  {
   "cell_type": "code",
   "execution_count": 4,
   "metadata": {},
   "outputs": [],
   "source": [
    "df_data = pd.read_csv(r'全国城市地铁站点信息V202104.csv', encoding='gbk')"
   ]
  },
  {
   "cell_type": "code",
   "execution_count": 5,
   "metadata": {},
   "outputs": [
    {
     "output_type": "execute_result",
     "data": {
      "text/plain": [
       "  站点名称       POI编号            拼音名称        gd经度       gd纬度 路线名称 城市名称\n",
       "0  金安桥  BV11494889      JinAn Qiao  116.162586  39.923298  S1线   北京\n",
       "1  四道桥  BV10813547     si dao qiao  116.134010  39.916030  S1线   北京\n",
       "2  桥户营  BV10813541    qiao hu ying  116.125809  39.912383  S1线   北京\n",
       "3   上岸  BV10813543        shang an  116.122225  39.905138  S1线   北京\n",
       "4  栗园庄  BV10813544  li yuan zhuang  116.123254  39.895780  S1线   北京"
      ],
      "text/html": "<div>\n<style scoped>\n    .dataframe tbody tr th:only-of-type {\n        vertical-align: middle;\n    }\n\n    .dataframe tbody tr th {\n        vertical-align: top;\n    }\n\n    .dataframe thead th {\n        text-align: right;\n    }\n</style>\n<table border=\"1\" class=\"dataframe\">\n  <thead>\n    <tr style=\"text-align: right;\">\n      <th></th>\n      <th>站点名称</th>\n      <th>POI编号</th>\n      <th>拼音名称</th>\n      <th>gd经度</th>\n      <th>gd纬度</th>\n      <th>路线名称</th>\n      <th>城市名称</th>\n    </tr>\n  </thead>\n  <tbody>\n    <tr>\n      <th>0</th>\n      <td>金安桥</td>\n      <td>BV11494889</td>\n      <td>JinAn Qiao</td>\n      <td>116.162586</td>\n      <td>39.923298</td>\n      <td>S1线</td>\n      <td>北京</td>\n    </tr>\n    <tr>\n      <th>1</th>\n      <td>四道桥</td>\n      <td>BV10813547</td>\n      <td>si dao qiao</td>\n      <td>116.134010</td>\n      <td>39.916030</td>\n      <td>S1线</td>\n      <td>北京</td>\n    </tr>\n    <tr>\n      <th>2</th>\n      <td>桥户营</td>\n      <td>BV10813541</td>\n      <td>qiao hu ying</td>\n      <td>116.125809</td>\n      <td>39.912383</td>\n      <td>S1线</td>\n      <td>北京</td>\n    </tr>\n    <tr>\n      <th>3</th>\n      <td>上岸</td>\n      <td>BV10813543</td>\n      <td>shang an</td>\n      <td>116.122225</td>\n      <td>39.905138</td>\n      <td>S1线</td>\n      <td>北京</td>\n    </tr>\n    <tr>\n      <th>4</th>\n      <td>栗园庄</td>\n      <td>BV10813544</td>\n      <td>li yuan zhuang</td>\n      <td>116.123254</td>\n      <td>39.895780</td>\n      <td>S1线</td>\n      <td>北京</td>\n    </tr>\n  </tbody>\n</table>\n</div>"
     },
     "metadata": {},
     "execution_count": 5
    }
   ],
   "source": [
    "df_data.head()"
   ]
  },
  {
   "cell_type": "code",
   "execution_count": 6,
   "metadata": {},
   "outputs": [
    {
     "output_type": "execute_result",
     "data": {
      "text/plain": [
       "      站点名称       POI编号            拼音名称        gd经度       gd纬度  路线名称 城市名称\n",
       "4463   邕武路  BV10793332       YongWu Lu  108.340209  22.875565   3号线   南宁\n",
       "842    金京路  BV10039924      JinJing Lu  121.615477  31.279823  12号线   上海\n",
       "328   农大南路  BV10740316  nong da nan lu  116.282272  40.021398  16号线   北京\n",
       "4102   胜利门  BV10124809      ShengLiMen  120.299901  31.581945   1号线   无锡\n",
       "2437    华龙  BV11102222         HuaLong  106.452861  29.495513    环线   重庆"
      ],
      "text/html": "<div>\n<style scoped>\n    .dataframe tbody tr th:only-of-type {\n        vertical-align: middle;\n    }\n\n    .dataframe tbody tr th {\n        vertical-align: top;\n    }\n\n    .dataframe thead th {\n        text-align: right;\n    }\n</style>\n<table border=\"1\" class=\"dataframe\">\n  <thead>\n    <tr style=\"text-align: right;\">\n      <th></th>\n      <th>站点名称</th>\n      <th>POI编号</th>\n      <th>拼音名称</th>\n      <th>gd经度</th>\n      <th>gd纬度</th>\n      <th>路线名称</th>\n      <th>城市名称</th>\n    </tr>\n  </thead>\n  <tbody>\n    <tr>\n      <th>4463</th>\n      <td>邕武路</td>\n      <td>BV10793332</td>\n      <td>YongWu Lu</td>\n      <td>108.340209</td>\n      <td>22.875565</td>\n      <td>3号线</td>\n      <td>南宁</td>\n    </tr>\n    <tr>\n      <th>842</th>\n      <td>金京路</td>\n      <td>BV10039924</td>\n      <td>JinJing Lu</td>\n      <td>121.615477</td>\n      <td>31.279823</td>\n      <td>12号线</td>\n      <td>上海</td>\n    </tr>\n    <tr>\n      <th>328</th>\n      <td>农大南路</td>\n      <td>BV10740316</td>\n      <td>nong da nan lu</td>\n      <td>116.282272</td>\n      <td>40.021398</td>\n      <td>16号线</td>\n      <td>北京</td>\n    </tr>\n    <tr>\n      <th>4102</th>\n      <td>胜利门</td>\n      <td>BV10124809</td>\n      <td>ShengLiMen</td>\n      <td>120.299901</td>\n      <td>31.581945</td>\n      <td>1号线</td>\n      <td>无锡</td>\n    </tr>\n    <tr>\n      <th>2437</th>\n      <td>华龙</td>\n      <td>BV11102222</td>\n      <td>HuaLong</td>\n      <td>106.452861</td>\n      <td>29.495513</td>\n      <td>环线</td>\n      <td>重庆</td>\n    </tr>\n  </tbody>\n</table>\n</div>"
     },
     "metadata": {},
     "execution_count": 6
    }
   ],
   "source": [
    "\"\"\"删除完全重复的站点\"\"\"\n",
    "df_data_1 = df_data.drop_duplicates()\n",
    "df_data_1.sample(5)"
   ]
  },
  {
   "cell_type": "code",
   "execution_count": null,
   "metadata": {},
   "outputs": [],
   "source": []
  }
 ]
}